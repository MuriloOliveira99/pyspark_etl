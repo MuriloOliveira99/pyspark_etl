{
  "cells": [
    {
      "cell_type": "markdown",
      "metadata": {
        "id": "5E69BhmK9Moz"
      },
      "source": [
        "# Python - ETL com pyspark\n",
        "- mongoDB Atlas: https://cloud.mongodb.com/v2#"
      ]
    },
    {
      "cell_type": "markdown",
      "metadata": {
        "id": "PrxzT-UK-G7J"
      },
      "source": [
        "## Import das libs"
      ]
    },
    {
      "cell_type": "code",
      "execution_count": null,
      "metadata": {
        "id": "zDCm1sWa372k"
      },
      "outputs": [],
      "source": [
        "from pyspark.sql.session import SparkSession\n",
        "from pyspark.sql.types import (BooleanType, IntegerType, StringType, \n",
        "                               TimestampType, StructType,\n",
        "                               StructField, ArrayType,\n",
        "                               TimestampType,FloatType)\n",
        "import pyspark.sql.functions as F"
      ]
    },
    {
      "cell_type": "markdown",
      "metadata": {
        "id": "VcyWtAms-JQF"
      },
      "source": [
        "## Criando a sessão spark"
      ]
    },
    {
      "cell_type": "code",
      "execution_count": null,
      "metadata": {
        "id": "XmLqSgFQ-JVS"
      },
      "outputs": [],
      "source": [
        "spark = SparkSession.builder.appName('ETL_example')\\\n",
        "        .config('spark.master', 'local')\\\n",
        "        .config('spark.executor.memory', '2gb')\\\n",
        "        .config('spark.shuffle.sql.partitions', 2)\\\n",
        "        .getOrCreate()"
      ]
    },
    {
      "cell_type": "markdown",
      "metadata": {
        "id": "3g0NTVcN-o3_"
      },
      "source": [
        "## Extract"
      ]
    },
    {
      "cell_type": "code",
      "execution_count": null,
      "metadata": {
        "id": "js3fHHnj-o9P"
      },
      "outputs": [],
      "source": [
        "schema = StructType([\n",
        "    StructField('target', StringType()),\n",
        "    StructField('_id', IntegerType()),\n",
        "    StructField('date', StringType()),\n",
        "    StructField('flag', StringType()),\n",
        "    StructField('user', StringType()),\n",
        "    StructField('text', StringType())\n",
        "])\n",
        "\n",
        "path = '/content/training.1600000.processed.noemoticon.csv'"
      ]
    },
    {
      "cell_type": "markdown",
      "metadata": {
        "id": "aztCnAwY_zem"
      },
      "source": [
        "### Criando o DataFrame"
      ]
    },
    {
      "cell_type": "code",
      "execution_count": null,
      "metadata": {
        "id": "set-ossM_zkI"
      },
      "outputs": [],
      "source": [
        "df = spark.read.format('csv')\\\n",
        "     .schema(schema)\\\n",
        "     .load(path)"
      ]
    },
    {
      "cell_type": "code",
      "execution_count": null,
      "metadata": {
        "colab": {
          "base_uri": "https://localhost:8080/"
        },
        "id": "N7zX8v19ACSU",
        "outputId": "7692d19e-bf39-49ab-8803-7304d6e5773b"
      },
      "outputs": [
        {
          "name": "stdout",
          "output_type": "stream",
          "text": [
            "root\n",
            " |-- target: string (nullable = true)\n",
            " |-- _id: integer (nullable = true)\n",
            " |-- date: string (nullable = true)\n",
            " |-- flag: string (nullable = true)\n",
            " |-- user: string (nullable = true)\n",
            " |-- text: string (nullable = true)\n",
            "\n",
            "+------+----------+--------------------+--------+---------------+--------------------+\n",
            "|target|       _id|                date|    flag|           user|                text|\n",
            "+------+----------+--------------------+--------+---------------+--------------------+\n",
            "|     0|1467810369|Mon Apr 06 22:19:...|NO_QUERY|_TheSpecialOne_|@switchfoot http:...|\n",
            "|     0|1467810672|Mon Apr 06 22:19:...|NO_QUERY|  scotthamilton|is upset that he ...|\n",
            "|     0|1467810917|Mon Apr 06 22:19:...|NO_QUERY|       mattycus|@Kenichan I dived...|\n",
            "|     0|1467811184|Mon Apr 06 22:19:...|NO_QUERY|        ElleCTF|my whole body fee...|\n",
            "|     0|1467811193|Mon Apr 06 22:19:...|NO_QUERY|         Karoli|@nationwideclass ...|\n",
            "+------+----------+--------------------+--------+---------------+--------------------+\n",
            "only showing top 5 rows\n",
            "\n"
          ]
        }
      ],
      "source": [
        "df.printSchema()\n",
        "df.show(5)"
      ]
    },
    {
      "cell_type": "markdown",
      "metadata": {
        "id": "rEDDyP6TAlYp"
      },
      "source": [
        "## Transform"
      ]
    },
    {
      "cell_type": "code",
      "execution_count": null,
      "metadata": {
        "colab": {
          "base_uri": "https://localhost:8080/"
        },
        "id": "0ZFKIPENAjwu",
        "outputId": "711c12e7-18ba-448f-9c19-d6990da3f304"
      },
      "outputs": [
        {
          "name": "stdout",
          "output_type": "stream",
          "text": [
            "+----------+--------------------+---------------+--------------------+\n",
            "|       _id|                date|           user|                text|\n",
            "+----------+--------------------+---------------+--------------------+\n",
            "|1467810369|Mon Apr 06 22:19:...|_TheSpecialOne_|@switchfoot http:...|\n",
            "|1467810672|Mon Apr 06 22:19:...|  scotthamilton|is upset that he ...|\n",
            "|1467810917|Mon Apr 06 22:19:...|       mattycus|@Kenichan I dived...|\n",
            "+----------+--------------------+---------------+--------------------+\n",
            "only showing top 3 rows\n",
            "\n"
          ]
        }
      ],
      "source": [
        "# Deletando as colunas 'target' e 'flag'\n",
        "df = df.drop('target', 'flag')\n",
        "df.show(3)"
      ]
    },
    {
      "cell_type": "markdown",
      "metadata": {
        "id": "2AMiToczBEjU"
      },
      "source": [
        "### Separando a coluna date"
      ]
    },
    {
      "cell_type": "code",
      "execution_count": null,
      "metadata": {
        "id": "OY5tJF-TBEoI"
      },
      "outputs": [],
      "source": [
        "df = df.withColumn('day_week', df.date.substr(1, 3))\\\n",
        "       .withColumn('day', df.date.substr(9, 2))\\\n",
        "       .withColumn('month', df.date.substr(5, 3))\\\n",
        "       .withColumn('time', df.date.substr(12, 8))\\\n",
        "       .withColumn('year', df.date.substr(25, 4))\\\n",
        "       .drop('date')"
      ]
    },
    {
      "cell_type": "code",
      "execution_count": null,
      "metadata": {
        "colab": {
          "base_uri": "https://localhost:8080/"
        },
        "id": "MiNnj9YWExJq",
        "outputId": "b35b4632-3d20-4154-c016-37c5535dc5e1"
      },
      "outputs": [
        {
          "name": "stdout",
          "output_type": "stream",
          "text": [
            "+----------+---------------+--------------------+--------+---+-----+--------+----+\n",
            "|       _id|           user|                text|day_week|day|month|    time|year|\n",
            "+----------+---------------+--------------------+--------+---+-----+--------+----+\n",
            "|1467810369|_TheSpecialOne_|@switchfoot http:...|     Mon| 06|  Apr|22:19:45|2009|\n",
            "|1467810672|  scotthamilton|is upset that he ...|     Mon| 06|  Apr|22:19:49|2009|\n",
            "|1467810917|       mattycus|@Kenichan I dived...|     Mon| 06|  Apr|22:19:53|2009|\n",
            "|1467811184|        ElleCTF|my whole body fee...|     Mon| 06|  Apr|22:19:57|2009|\n",
            "|1467811193|         Karoli|@nationwideclass ...|     Mon| 06|  Apr|22:19:57|2009|\n",
            "+----------+---------------+--------------------+--------+---+-----+--------+----+\n",
            "only showing top 5 rows\n",
            "\n"
          ]
        }
      ],
      "source": [
        "df.show(5)"
      ]
    },
    {
      "cell_type": "markdown",
      "metadata": {
        "id": "BpkAoqEtE44O"
      },
      "source": [
        "### Convertendo Tipos de Dados"
      ]
    },
    {
      "cell_type": "code",
      "execution_count": null,
      "metadata": {
        "colab": {
          "base_uri": "https://localhost:8080/"
        },
        "id": "IKhVZM2tE4-x",
        "outputId": "c828dfa3-2b06-421c-b052-05be575d24e6"
      },
      "outputs": [
        {
          "name": "stdout",
          "output_type": "stream",
          "text": [
            "root\n",
            " |-- _id: integer (nullable = true)\n",
            " |-- user: string (nullable = true)\n",
            " |-- text: string (nullable = true)\n",
            " |-- day_week: string (nullable = true)\n",
            " |-- day: integer (nullable = true)\n",
            " |-- month: string (nullable = true)\n",
            " |-- time: timestamp (nullable = true)\n",
            " |-- year: string (nullable = true)\n",
            "\n"
          ]
        }
      ],
      "source": [
        "def converter_coluna(dataframe, nomes, novoTipo):\n",
        "    for nome in nomes: \n",
        "        dataframe = dataframe.withColumn(nome, dataframe[nome].cast(novoTipo))\n",
        "    return dataframe \n",
        "\n",
        "coluna_string = ['day_week', 'month']\n",
        "coluna_inteiro = ['day']\n",
        "coluna_time = ['time']\n",
        "\n",
        "df = converter_coluna(df, coluna_string, StringType())\n",
        "df = converter_coluna(df, coluna_inteiro, IntegerType())\n",
        "df = converter_coluna(df, coluna_time, TimestampType())\n",
        "\n",
        "df.printSchema()"
      ]
    },
    {
      "cell_type": "markdown",
      "metadata": {
        "id": "betQcOxrLUfK"
      },
      "source": [
        "## Load"
      ]
    },
    {
      "cell_type": "markdown",
      "metadata": {
        "id": "6kS7Ab0zkODB"
      },
      "source": [
        "### Conexão com o mongoDB"
      ]
    },
    {
      "cell_type": "code",
      "execution_count": null,
      "metadata": {
        "id": "4IfB5LX1LUkx"
      },
      "outputs": [],
      "source": [
        "def get_database():\n",
        "    from pymongo import MongoClient\n",
        "\n",
        "    CONNECTION_STRING = ''\n",
        "    client = MongoClient(CONNECTION_STRING)\n",
        "\n",
        "    return client['etl_soul_on']"
      ]
    },
    {
      "cell_type": "code",
      "execution_count": null,
      "metadata": {
        "colab": {
          "base_uri": "https://localhost:8080/"
        },
        "id": "EwR55nw7kZBK",
        "outputId": "2eab7b20-7c66-43c2-82d1-ac494ce1db2b"
      },
      "outputs": [
        {
          "name": "stderr",
          "output_type": "stream",
          "text": [
            "/usr/local/lib/python3.9/dist-packages/pyspark/sql/pandas/conversion.py:248: FutureWarning: Passing unit-less datetime64 dtype to .astype is deprecated and will raise in a future version. Pass 'datetime64[ns]' instead\n",
            "  series = series.astype(t, copy=False)\n"
          ]
        },
        {
          "name": "stdout",
          "output_type": "stream",
          "text": [
            "Data Frame importado com sucesso!\n"
          ]
        }
      ],
      "source": [
        "dbname = get_database() # conecta no banco\n",
        "collection_name = dbname['data_load'] # cria uma colecao 'chamada data_load'\n",
        "\n",
        "df = df.limit(20) # insere apenas 20 linhas\n",
        "df = df.toPandas() # converte o df do pyspark para df do pandas\n",
        "data_dict = df.to_dict('records') # converte o df em um dicionario (json)\n",
        "collection_name.insert_many(data_dict) # insere o df na collection \n",
        "print('Data Frame importado com sucesso!')\n"
      ]
    }
  ],
  "metadata": {
    "colab": {
      "provenance": []
    },
    "kernelspec": {
      "display_name": "Python 3",
      "name": "python3"
    },
    "language_info": {
      "name": "python"
    }
  },
  "nbformat": 4,
  "nbformat_minor": 0
}
